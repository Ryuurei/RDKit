{
 "cells": [
  {
   "cell_type": "markdown",
   "metadata": {},
   "source": [
    "# Machine learning to predict molecule properties : solubility\n",
    "\n"
   ]
  },
  {
   "cell_type": "markdown",
   "metadata": {},
   "source": [
    "The solubility of molecules is an important property in many applications like for drug selection or for compound selection for battery designes (no link to health).\n",
    "\n",
    "Being able to predict the solubility of a molecule from its formula instead of having to make measuring experiment in an important aspect to enhanced fatester molecule discovery.\n",
    "\n",
    "In this notebook we will do basic solubility prediction with machine learning models and rdkit\n"
   ]
  },
  {
   "cell_type": "markdown",
   "metadata": {},
   "source": [
    "Install the python rdkit package with pip or conda\n",
    "\n",
    "cf https://www.rdkit.org/docs/index.html"
   ]
  },
  {
   "cell_type": "code",
   "execution_count": null,
   "metadata": {
    "colab": {
     "base_uri": "https://localhost:8080/"
    },
    "executionInfo": {
     "elapsed": 2860,
     "status": "ok",
     "timestamp": 1629702158983,
     "user": {
      "displayName": "ngoc mac",
      "photoUrl": "",
      "userId": "17981024361133171440"
     },
     "user_tz": -120
    },
    "id": "9qJCFDsxp3wJ",
    "outputId": "cd1a6ec7-05db-40e0-ac62-aeae454084d9"
   },
   "outputs": [],
   "source": []
  },
  {
   "cell_type": "markdown",
   "metadata": {},
   "source": [
    "# Molecule representations with Rdkit"
   ]
  },
  {
   "cell_type": "markdown",
   "metadata": {},
   "source": [
    "Rdkit is a package allowing to work with molecule data and their representation. \n",
    "\n",
    "For basic manipulations, the main submodule is **Chem**\n",
    "\n"
   ]
  },
  {
   "cell_type": "markdown",
   "metadata": {
    "id": "TYs-WClCqSsy"
   },
   "source": [
    "### Smile representation\n",
    "\n",
    "Smile lets represent molecules with text strings\n",
    "\n",
    "\n"
   ]
  },
  {
   "cell_type": "markdown",
   "metadata": {},
   "source": [
    "The following string contains the SMILE representation of the paracetamol molecule"
   ]
  },
  {
   "cell_type": "code",
   "execution_count": 55,
   "metadata": {},
   "outputs": [],
   "source": [
    "smile = 'CC(=O)NC1=CC=C(O)C=C1'"
   ]
  },
  {
   "cell_type": "markdown",
   "metadata": {},
   "source": [
    "import rdkit and the Chem submodule"
   ]
  },
  {
   "cell_type": "code",
   "execution_count": 56,
   "metadata": {},
   "outputs": [],
   "source": [
    "import rdkit as rd\n",
    "from rdkit import Chem"
   ]
  },
  {
   "cell_type": "markdown",
   "metadata": {},
   "source": [
    "Using the MolFromSmiles function, create a molecule from the smile representation and print its types"
   ]
  },
  {
   "cell_type": "code",
   "execution_count": 57,
   "metadata": {
    "executionInfo": {
     "elapsed": 191,
     "status": "ok",
     "timestamp": 1629700076159,
     "user": {
      "displayName": "ngoc mac",
      "photoUrl": "",
      "userId": "17981024361133171440"
     },
     "user_tz": -120
    },
    "id": "ccbbFmLOqDJV"
   },
   "outputs": [],
   "source": [
    "paracetamol = Chem.MolFromSmiles(smile)"
   ]
  },
  {
   "cell_type": "markdown",
   "metadata": {},
   "source": [
    "With the MolToImage function of the Draw package, display the molecule"
   ]
  },
  {
   "cell_type": "code",
   "execution_count": 58,
   "metadata": {
    "colab": {
     "base_uri": "https://localhost:8080/",
     "height": 337
    },
    "executionInfo": {
     "elapsed": 332,
     "status": "ok",
     "timestamp": 1629700165128,
     "user": {
      "displayName": "ngoc mac",
      "photoUrl": "",
      "userId": "17981024361133171440"
     },
     "user_tz": -120
    },
    "id": "8snxocdqsKNJ",
    "outputId": "71e86bf6-8290-4307-e8e5-d381532e657d"
   },
   "outputs": [
    {
     "data": {
      "image/png": "[encoded data removed]",
      "text/plain": [
       "<PIL.PngImagePlugin.PngImageFile image mode=RGB size=300x300 at 0x2D3264A5910>"
      ]
     },
     "execution_count": 58,
     "metadata": {},
     "output_type": "execute_result"
    }
   ],
   "source": [
    "Chem.Draw.MolToImage(paracetamol)"
   ]
  },
  {
   "cell_type": "markdown",
   "metadata": {},
   "source": [
    "You can get the Number of atoms of the molecules and the list of atoms with the methods GetNumAtoms and getAtoms.\n",
    "\n",
    "Print the number of atoms of the molecule"
   ]
  },
  {
   "cell_type": "code",
   "execution_count": 59,
   "metadata": {
    "colab": {
     "base_uri": "https://localhost:8080/"
    },
    "executionInfo": {
     "elapsed": 672,
     "status": "ok",
     "timestamp": 1629700424946,
     "user": {
      "displayName": "ngoc mac",
      "photoUrl": "",
      "userId": "17981024361133171440"
     },
     "user_tz": -120
    },
    "id": "3yiWFSgdsk0j",
    "outputId": "00414426-74e1-464b-b82f-5b9adfe21439"
   },
   "outputs": [
    {
     "name": "stdout",
     "output_type": "stream",
     "text": [
      "Atomes numbers: 11\n"
     ]
    }
   ],
   "source": [
    "print(\"Atomes numbers:\",paracetamol.GetNumAtoms())"
   ]
  },
  {
   "cell_type": "markdown",
   "metadata": {},
   "source": [
    "If you compare to the picture, you may see that the number of atoms is not 11. What is the total number and why rdkit do not give the same answer ?"
   ]
  },
  {
   "cell_type": "markdown",
   "metadata": {},
   "source": []
  },
  {
   "cell_type": "markdown",
   "metadata": {},
   "source": [
    "Print the list of each atoms"
   ]
  },
  {
   "cell_type": "code",
   "execution_count": 60,
   "metadata": {
    "colab": {
     "base_uri": "https://localhost:8080/"
    },
    "executionInfo": {
     "elapsed": 280,
     "status": "ok",
     "timestamp": 1629700428713,
     "user": {
      "displayName": "ngoc mac",
      "photoUrl": "",
      "userId": "17981024361133171440"
     },
     "user_tz": -120
    },
    "id": "4rN88u9dtueQ",
    "outputId": "77b26a06-1f02-424b-bc61-f60da1633e63"
   },
   "outputs": [
    {
     "name": "stdout",
     "output_type": "stream",
     "text": [
      "C C O N C C C C O C C "
     ]
    }
   ],
   "source": [
    "for atom in paracetamol.GetAtoms():\n",
    "    print(atom.GetSymbol(), end=\" \")"
   ]
  },
  {
   "cell_type": "markdown",
   "metadata": {},
   "source": []
  },
  {
   "cell_type": "markdown",
   "metadata": {},
   "source": [
    "Store the number of bonds of the molecule in **n_bond** (look which method can be used for that) and print"
   ]
  },
  {
   "cell_type": "code",
   "execution_count": 61,
   "metadata": {
    "colab": {
     "base_uri": "https://localhost:8080/"
    },
    "executionInfo": {
     "elapsed": 199,
     "status": "ok",
     "timestamp": 1629700509091,
     "user": {
      "displayName": "ngoc mac",
      "photoUrl": "",
      "userId": "17981024361133171440"
     },
     "user_tz": -120
    },
    "id": "4BJGnXswtxFV",
    "outputId": "5c35338b-3772-48dd-93b9-059c7bb58ce9"
   },
   "outputs": [
    {
     "name": "stdout",
     "output_type": "stream",
     "text": [
      "C-C\n",
      "C-O\n",
      "C-N\n",
      "N-C\n",
      "C-C\n",
      "C-C\n",
      "C-C\n",
      "C-O\n",
      "C-C\n",
      "C-C\n",
      "C-C\n"
     ]
    }
   ],
   "source": [
    "n_bonds = paracetamol.GetBonds()\n",
    "for bond in n_bonds:\n",
    "    print(bond.GetBeginAtom().GetSymbol(), end=\"-\")\n",
    "    print(bond.GetEndAtom().GetSymbol())"
   ]
  },
  {
   "cell_type": "markdown",
   "metadata": {},
   "source": [
    "For each bond, print if the bond is single or double"
   ]
  },
  {
   "cell_type": "code",
   "execution_count": 62,
   "metadata": {},
   "outputs": [
    {
     "name": "stdout",
     "output_type": "stream",
     "text": [
      "C-C=SINGLE\n",
      "C-O=DOUBLE\n",
      "C-N=SINGLE\n",
      "N-C=SINGLE\n",
      "C-C=AROMATIC\n",
      "C-C=AROMATIC\n",
      "C-C=AROMATIC\n",
      "C-O=SINGLE\n",
      "C-C=AROMATIC\n",
      "C-C=AROMATIC\n",
      "C-C=AROMATIC\n"
     ]
    }
   ],
   "source": [
    "for bond in n_bonds:\n",
    "    print(bond.GetBeginAtom().GetSymbol(), end=\"-\")\n",
    "    print(bond.GetEndAtom().GetSymbol(), end=\"=\")\n",
    "    print(bond.GetBondType())"
   ]
  },
  {
   "cell_type": "markdown",
   "metadata": {
    "id": "5ch4vabFuReu"
   },
   "source": [
    "### Reading molecule data from file\n",
    "\n",
    "Apart SMILES, .SDF/ .Mol are also the common formats to save molecules. RDKit provides also functionalities to read these files.\n",
    "\n",
    "\n",
    "Morphine is an opioid agonist used for the relief of moderate to severe acute and chronic pain. The chemical information of this drug can be found at \n",
    "\"https://go.drugbank.com/structures/small_molecule_drugs/DB00295.sdf\". \n",
    "\n",
    "\n",
    "Download this file and save it in a folder. \n",
    "\n"
   ]
  },
  {
   "cell_type": "markdown",
   "metadata": {},
   "source": []
  },
  {
   "cell_type": "markdown",
   "metadata": {},
   "source": [
    "\n",
    "Read the morphine molecule from the file that you've downloaded using \"rdkit.Chem.SDMolSupplier\" and store the result in a variable named **morphine**\n",
    "\n"
   ]
  },
  {
   "cell_type": "code",
   "execution_count": 31,
   "metadata": {},
   "outputs": [],
   "source": [
    "morphine = Chem.SDMolSupplier('DB00295.sdf')"
   ]
  },
  {
   "cell_type": "markdown",
   "metadata": {},
   "source": [
    "Display its type"
   ]
  },
  {
   "cell_type": "code",
   "execution_count": 39,
   "metadata": {},
   "outputs": [
    {
     "data": {
      "text/plain": [
       "rdkit.Chem.rdmolfiles.SDMolSupplier"
      ]
     },
     "execution_count": 39,
     "metadata": {},
     "output_type": "execute_result"
    }
   ],
   "source": [
    "type(morphine)"
   ]
  },
  {
   "cell_type": "markdown",
   "metadata": {},
   "source": [
    "Display the picture of the molecule\n"
   ]
  },
  {
   "cell_type": "code",
   "execution_count": 33,
   "metadata": {},
   "outputs": [
    {
     "data": {
      "image/png": "[encoded data removed]",
      "text/plain": [
       "<PIL.PngImagePlugin.PngImageFile image mode=RGB size=300x300 at 0x2D325CF3670>"
      ]
     },
     "execution_count": 33,
     "metadata": {},
     "output_type": "execute_result"
    }
   ],
   "source": [
    "Chem.Draw.MolToImage(morphine[0])"
   ]
  },
  {
   "cell_type": "markdown",
   "metadata": {},
   "source": [
    "Display the number of atoms and the number of bonds"
   ]
  },
  {
   "cell_type": "code",
   "execution_count": 36,
   "metadata": {},
   "outputs": [
    {
     "name": "stdout",
     "output_type": "stream",
     "text": [
      "Number of atoms: 21\n",
      "Number of bonds: 25\n"
     ]
    }
   ],
   "source": [
    "print(\"Number of atoms:\",morphine[0].GetNumAtoms())\n",
    "print(\"Number of bonds:\", len(morphine[0].GetBonds()))"
   ]
  },
  {
   "cell_type": "markdown",
   "metadata": {
    "id": "GZXsjZGw3ofC"
   },
   "source": [
    "### Descriptors \n",
    "\n",
    "\n",
    "Molecules are also described by a set of physiochemical descriptors like \n",
    "- the log partition coefficient,\n",
    "- the polar surface area ... that describe the molecule's structure.\n",
    "\n",
    "\n",
    "RDKit provides utilities that allow us to compute descriptor of molecules.\n",
    "\n",
    "The rdkit.ML.Descriptors module and its sub module let us compute molecule descriptors."
   ]
  },
  {
   "cell_type": "markdown",
   "metadata": {},
   "source": [
    "the rdkit.ML.Descriptors module has an attribute name \\_descList, display it"
   ]
  },
  {
   "cell_type": "code",
   "execution_count": 40,
   "metadata": {},
   "outputs": [],
   "source": [
    "from rdkit.Chem import Descriptors"
   ]
  },
  {
   "cell_type": "code",
   "execution_count": 43,
   "metadata": {},
   "outputs": [
    {
     "name": "stdout",
     "output_type": "stream",
     "text": [
      "MaxEStateIndex\n",
      "MinEStateIndex\n",
      "MaxAbsEStateIndex\n",
      "MinAbsEStateIndex\n",
      "qed\n",
      "MolWt\n",
      "HeavyAtomMolWt\n",
      "ExactMolWt\n",
      "NumValenceElectrons\n",
      "NumRadicalElectrons\n",
      "MaxPartialCharge\n",
      "MinPartialCharge\n",
      "MaxAbsPartialCharge\n",
      "MinAbsPartialCharge\n",
      "FpDensityMorgan1\n",
      "FpDensityMorgan2\n",
      "FpDensityMorgan3\n",
      "BCUT2D_MWHI\n",
      "BCUT2D_MWLOW\n",
      "BCUT2D_CHGHI\n",
      "BCUT2D_CHGLO\n",
      "BCUT2D_LOGPHI\n",
      "BCUT2D_LOGPLOW\n",
      "BCUT2D_MRHI\n",
      "BCUT2D_MRLOW\n",
      "BalabanJ\n",
      "BertzCT\n",
      "Chi0\n",
      "Chi0n\n",
      "Chi0v\n",
      "Chi1\n",
      "Chi1n\n",
      "Chi1v\n",
      "Chi2n\n",
      "Chi2v\n",
      "Chi3n\n",
      "Chi3v\n",
      "Chi4n\n",
      "Chi4v\n",
      "HallKierAlpha\n",
      "Ipc\n",
      "Kappa1\n",
      "Kappa2\n",
      "Kappa3\n",
      "LabuteASA\n",
      "PEOE_VSA1\n",
      "PEOE_VSA10\n",
      "PEOE_VSA11\n",
      "PEOE_VSA12\n",
      "PEOE_VSA13\n",
      "PEOE_VSA14\n",
      "PEOE_VSA2\n",
      "PEOE_VSA3\n",
      "PEOE_VSA4\n",
      "PEOE_VSA5\n",
      "PEOE_VSA6\n",
      "PEOE_VSA7\n",
      "PEOE_VSA8\n",
      "PEOE_VSA9\n",
      "SMR_VSA1\n",
      "SMR_VSA10\n",
      "SMR_VSA2\n",
      "SMR_VSA3\n",
      "SMR_VSA4\n",
      "SMR_VSA5\n",
      "SMR_VSA6\n",
      "SMR_VSA7\n",
      "SMR_VSA8\n",
      "SMR_VSA9\n",
      "SlogP_VSA1\n",
      "SlogP_VSA10\n",
      "SlogP_VSA11\n",
      "SlogP_VSA12\n",
      "SlogP_VSA2\n",
      "SlogP_VSA3\n",
      "SlogP_VSA4\n",
      "SlogP_VSA5\n",
      "SlogP_VSA6\n",
      "SlogP_VSA7\n",
      "SlogP_VSA8\n",
      "SlogP_VSA9\n",
      "TPSA\n",
      "EState_VSA1\n",
      "EState_VSA10\n",
      "EState_VSA11\n",
      "EState_VSA2\n",
      "EState_VSA3\n",
      "EState_VSA4\n",
      "EState_VSA5\n",
      "EState_VSA6\n",
      "EState_VSA7\n",
      "EState_VSA8\n",
      "EState_VSA9\n",
      "VSA_EState1\n",
      "VSA_EState10\n",
      "VSA_EState2\n",
      "VSA_EState3\n",
      "VSA_EState4\n",
      "VSA_EState5\n",
      "VSA_EState6\n",
      "VSA_EState7\n",
      "VSA_EState8\n",
      "VSA_EState9\n",
      "FractionCSP3\n",
      "HeavyAtomCount\n",
      "NHOHCount\n",
      "NOCount\n",
      "NumAliphaticCarbocycles\n",
      "NumAliphaticHeterocycles\n",
      "NumAliphaticRings\n",
      "NumAromaticCarbocycles\n",
      "NumAromaticHeterocycles\n",
      "NumAromaticRings\n",
      "NumHAcceptors\n",
      "NumHDonors\n",
      "NumHeteroatoms\n",
      "NumRotatableBonds\n",
      "NumSaturatedCarbocycles\n",
      "NumSaturatedHeterocycles\n",
      "NumSaturatedRings\n",
      "RingCount\n",
      "MolLogP\n",
      "MolMR\n",
      "fr_Al_COO\n",
      "fr_Al_OH\n",
      "fr_Al_OH_noTert\n",
      "fr_ArN\n",
      "fr_Ar_COO\n",
      "fr_Ar_N\n",
      "fr_Ar_NH\n",
      "fr_Ar_OH\n",
      "fr_COO\n",
      "fr_COO2\n",
      "fr_C_O\n",
      "fr_C_O_noCOO\n",
      "fr_C_S\n",
      "fr_HOCCN\n",
      "fr_Imine\n",
      "fr_NH0\n",
      "fr_NH1\n",
      "fr_NH2\n",
      "fr_N_O\n",
      "fr_Ndealkylation1\n",
      "fr_Ndealkylation2\n",
      "fr_Nhpyrrole\n",
      "fr_SH\n",
      "fr_aldehyde\n",
      "fr_alkyl_carbamate\n",
      "fr_alkyl_halide\n",
      "fr_allylic_oxid\n",
      "fr_amide\n",
      "fr_amidine\n",
      "fr_aniline\n",
      "fr_aryl_methyl\n",
      "fr_azide\n",
      "fr_azo\n",
      "fr_barbitur\n",
      "fr_benzene\n",
      "fr_benzodiazepine\n",
      "fr_bicyclic\n",
      "fr_diazo\n",
      "fr_dihydropyridine\n",
      "fr_epoxide\n",
      "fr_ester\n",
      "fr_ether\n",
      "fr_furan\n",
      "fr_guanido\n",
      "fr_halogen\n",
      "fr_hdrzine\n",
      "fr_hdrzone\n",
      "fr_imidazole\n",
      "fr_imide\n",
      "fr_isocyan\n",
      "fr_isothiocyan\n",
      "fr_ketone\n",
      "fr_ketone_Topliss\n",
      "fr_lactam\n",
      "fr_lactone\n",
      "fr_methoxy\n",
      "fr_morpholine\n",
      "fr_nitrile\n",
      "fr_nitro\n",
      "fr_nitro_arom\n",
      "fr_nitro_arom_nonortho\n",
      "fr_nitroso\n",
      "fr_oxazole\n",
      "fr_oxime\n",
      "fr_para_hydroxylation\n",
      "fr_phenol\n",
      "fr_phenol_noOrthoHbond\n",
      "fr_phos_acid\n",
      "fr_phos_ester\n",
      "fr_piperdine\n",
      "fr_piperzine\n",
      "fr_priamide\n",
      "fr_prisulfonamd\n",
      "fr_pyridine\n",
      "fr_quatN\n",
      "fr_sulfide\n",
      "fr_sulfonamd\n",
      "fr_sulfone\n",
      "fr_term_acetylene\n",
      "fr_tetrazole\n",
      "fr_thiazole\n",
      "fr_thiocyan\n",
      "fr_thiophene\n",
      "fr_unbrch_alkane\n",
      "fr_urea\n"
     ]
    }
   ],
   "source": [
    "for desc in Descriptors._descList:\n",
    "    print(desc[0])"
   ]
  },
  {
   "cell_type": "markdown",
   "metadata": {},
   "source": [
    "Compute all descriptors in the _descList list of the paracetamol molecule using the MoleculeDescriptors.MolecularDescriptorCalculator class"
   ]
  },
  {
   "cell_type": "code",
   "execution_count": 44,
   "metadata": {},
   "outputs": [],
   "source": [
    "from rdkit.ML.Descriptors.MoleculeDescriptors import MolecularDescriptorCalculator"
   ]
  },
  {
   "cell_type": "code",
   "execution_count": 51,
   "metadata": {},
   "outputs": [],
   "source": [
    "calculator = MolecularDescriptorCalculator(x[0] for x in Descriptors._descList)\n",
    "calc_all_descriptors = calculator.CalcDescriptors(m)"
   ]
  },
  {
   "cell_type": "markdown",
   "metadata": {
    "executionInfo": {
     "elapsed": 305,
     "status": "ok",
     "timestamp": 1629703040428,
     "user": {
      "displayName": "ngoc mac",
      "photoUrl": "",
      "userId": "17981024361133171440"
     },
     "user_tz": -120
    },
    "id": "vQcACF5K3l1y"
   },
   "source": [
    "Display the names and the fvalues of the descriptors"
   ]
  },
  {
   "cell_type": "code",
   "execution_count": 53,
   "metadata": {
    "colab": {
     "base_uri": "https://localhost:8080/"
    },
    "executionInfo": {
     "elapsed": 344,
     "status": "ok",
     "timestamp": 1629703050933,
     "user": {
      "displayName": "ngoc mac",
      "photoUrl": "",
      "userId": "17981024361133171440"
     },
     "user_tz": -120
    },
    "id": "uKfd9F_93urZ",
    "outputId": "329b316b-b96b-4af4-e858-4a5e037a217f"
   },
   "outputs": [
    {
     "name": "stdout",
     "output_type": "stream",
     "text": [
      "MaxEStateIndex: 10.524468537414966\n",
      "MinEStateIndex: -0.11510204081632636\n",
      "MaxAbsEStateIndex: 10.524468537414966\n",
      "MinAbsEStateIndex: 0.11510204081632636\n",
      "qed: 0.5950261967780849\n",
      "MolWt: 151.165\n",
      "HeavyAtomMolWt: 142.093\n",
      "ExactMolWt: 151.063328528\n",
      "NumValenceElectrons: 58\n",
      "NumRadicalElectrons: 0\n",
      "MaxPartialCharge: 0.22074743631242583\n",
      "MinPartialCharge: -0.5079643157925783\n",
      "MaxAbsPartialCharge: 0.5079643157925783\n",
      "MinAbsPartialCharge: 0.22074743631242583\n",
      "FpDensityMorgan1: 1.3636363636363635\n",
      "FpDensityMorgan2: 1.9090909090909092\n",
      "FpDensityMorgan3: 2.3636363636363638\n",
      "BCUT2D_MWHI: 16.25468871437965\n",
      "BCUT2D_MWLOW: 10.280190859964755\n",
      "BCUT2D_CHGHI: 1.9280360590359866\n",
      "BCUT2D_CHGLO: -1.9945540738765895\n",
      "BCUT2D_LOGPHI: 2.12524757916018\n",
      "BCUT2D_LOGPLOW: -2.04401131261029\n",
      "BCUT2D_MRHI: 5.88095478459792\n",
      "BCUT2D_MRLOW: -0.11373578338266109\n",
      "BalabanJ: 2.7362980721056545\n",
      "BertzCT: 253.29949758389105\n",
      "Chi0: 8.267584713501616\n",
      "Chi0n: 6.164862962722325\n",
      "Chi0v: 6.164862962722325\n",
      "Chi1: 5.1815405503520555\n",
      "Chi1n: 3.2490981480278296\n",
      "Chi1v: 3.2490981480278296\n",
      "Chi2n: 2.228060242189872\n",
      "Chi2v: 2.228060242189872\n",
      "Chi3n: 1.1876733148984595\n",
      "Chi3v: 1.1876733148984595\n",
      "Chi4n: 0.7480265991539318\n",
      "Chi4v: 0.7480265991539318\n",
      "HallKierAlpha: -1.5099999999999998\n",
      "Ipc: 285.51074052739676\n",
      "Kappa1: 7.595374077976819\n",
      "Kappa2: 3.0531381005525\n",
      "Kappa3: 2.292303972882069\n",
      "LabuteASA: 64.66690538413799\n",
      "PEOE_VSA1: 10.423315998847038\n",
      "PEOE_VSA10: 5.749511833283905\n",
      "PEOE_VSA11: 0.0\n",
      "PEOE_VSA12: 5.907179729351506\n",
      "PEOE_VSA13: 0.0\n",
      "PEOE_VSA14: 0.0\n",
      "PEOE_VSA2: 4.794537184071822\n",
      "PEOE_VSA3: 0.0\n",
      "PEOE_VSA4: 0.0\n",
      "PEOE_VSA5: 0.0\n",
      "PEOE_VSA6: 0.0\n",
      "PEOE_VSA7: 24.26546827384644\n",
      "PEOE_VSA8: 12.611123474374185\n",
      "PEOE_VSA9: 0.0\n",
      "SMR_VSA1: 9.901064578912528\n",
      "SMR_VSA10: 11.594566004035068\n",
      "SMR_VSA2: 0.0\n",
      "SMR_VSA3: 0.0\n",
      "SMR_VSA4: 0.0\n",
      "SMR_VSA5: 6.923737199690624\n",
      "SMR_VSA6: 5.316788604006331\n",
      "SMR_VSA7: 24.26546827384644\n",
      "SMR_VSA8: 0.0\n",
      "SMR_VSA9: 5.749511833283905\n",
      "SlogP_VSA1: 5.316788604006331\n",
      "SlogP_VSA10: 5.687386274683562\n",
      "SlogP_VSA11: 5.749511833283905\n",
      "SlogP_VSA12: 0.0\n",
      "SlogP_VSA2: 11.013707124192212\n",
      "SlogP_VSA3: 4.794537184071822\n",
      "SlogP_VSA4: 0.0\n",
      "SlogP_VSA5: 6.923737199690624\n",
      "SlogP_VSA6: 24.26546827384644\n",
      "SlogP_VSA7: 0.0\n",
      "SlogP_VSA8: 0.0\n",
      "SlogP_VSA9: 0.0\n",
      "TPSA: 49.33\n",
      "EState_VSA1: 0.0\n",
      "EState_VSA10: 4.794537184071822\n",
      "EState_VSA11: 0.0\n",
      "EState_VSA2: 11.65669156263541\n",
      "EState_VSA3: 5.687386274683562\n",
      "EState_VSA4: 0.0\n",
      "EState_VSA5: 19.056471336613843\n",
      "EState_VSA6: 12.13273413692322\n",
      "EState_VSA7: 0.0\n",
      "EState_VSA8: 5.316788604006331\n",
      "EState_VSA9: 5.106527394840706\n",
      "VSA_EState1: 0.0\n",
      "VSA_EState10: 0.0\n",
      "VSA_EState2: 10.524468537414966\n",
      "VSA_EState3: 11.460032596371882\n",
      "VSA_EState4: 0.6900925925925929\n",
      "VSA_EState5: 0.07851095993953194\n",
      "VSA_EState6: 6.309537037037037\n",
      "VSA_EState7: 0.0\n",
      "VSA_EState8: 1.437358276643991\n",
      "VSA_EState9: 0.0\n",
      "FractionCSP3: 0.125\n",
      "HeavyAtomCount: 11\n",
      "NHOHCount: 2\n",
      "NOCount: 3\n",
      "NumAliphaticCarbocycles: 0\n",
      "NumAliphaticHeterocycles: 0\n",
      "NumAliphaticRings: 0\n",
      "NumAromaticCarbocycles: 1\n",
      "NumAromaticHeterocycles: 0\n",
      "NumAromaticRings: 1\n",
      "NumHAcceptors: 2\n",
      "NumHDonors: 2\n",
      "NumHeteroatoms: 3\n",
      "NumRotatableBonds: 1\n",
      "NumSaturatedCarbocycles: 0\n",
      "NumSaturatedHeterocycles: 0\n",
      "NumSaturatedRings: 0\n",
      "RingCount: 1\n",
      "MolLogP: 1.3505999999999998\n",
      "MolMR: 42.41050000000002\n",
      "fr_Al_COO: 0\n",
      "fr_Al_OH: 0\n",
      "fr_Al_OH_noTert: 0\n",
      "fr_ArN: 0\n",
      "fr_Ar_COO: 0\n",
      "fr_Ar_N: 0\n",
      "fr_Ar_NH: 0\n",
      "fr_Ar_OH: 1\n",
      "fr_COO: 0\n",
      "fr_COO2: 0\n",
      "fr_C_O: 1\n",
      "fr_C_O_noCOO: 1\n",
      "fr_C_S: 0\n",
      "fr_HOCCN: 0\n",
      "fr_Imine: 0\n",
      "fr_NH0: 0\n",
      "fr_NH1: 1\n",
      "fr_NH2: 0\n",
      "fr_N_O: 0\n",
      "fr_Ndealkylation1: 0\n",
      "fr_Ndealkylation2: 0\n",
      "fr_Nhpyrrole: 0\n",
      "fr_SH: 0\n",
      "fr_aldehyde: 0\n",
      "fr_alkyl_carbamate: 0\n",
      "fr_alkyl_halide: 0\n",
      "fr_allylic_oxid: 0\n",
      "fr_amide: 1\n",
      "fr_amidine: 0\n",
      "fr_aniline: 1\n",
      "fr_aryl_methyl: 0\n",
      "fr_azide: 0\n",
      "fr_azo: 0\n",
      "fr_barbitur: 0\n",
      "fr_benzene: 1\n",
      "fr_benzodiazepine: 0\n",
      "fr_bicyclic: 0\n",
      "fr_diazo: 0\n",
      "fr_dihydropyridine: 0\n",
      "fr_epoxide: 0\n",
      "fr_ester: 0\n",
      "fr_ether: 0\n",
      "fr_furan: 0\n",
      "fr_guanido: 0\n",
      "fr_halogen: 0\n",
      "fr_hdrzine: 0\n",
      "fr_hdrzone: 0\n",
      "fr_imidazole: 0\n",
      "fr_imide: 0\n",
      "fr_isocyan: 0\n",
      "fr_isothiocyan: 0\n",
      "fr_ketone: 0\n",
      "fr_ketone_Topliss: 0\n",
      "fr_lactam: 0\n",
      "fr_lactone: 0\n",
      "fr_methoxy: 0\n",
      "fr_morpholine: 0\n",
      "fr_nitrile: 0\n",
      "fr_nitro: 0\n",
      "fr_nitro_arom: 0\n",
      "fr_nitro_arom_nonortho: 0\n",
      "fr_nitroso: 0\n",
      "fr_oxazole: 0\n",
      "fr_oxime: 0\n",
      "fr_para_hydroxylation: 0\n",
      "fr_phenol: 1\n",
      "fr_phenol_noOrthoHbond: 1\n",
      "fr_phos_acid: 0\n",
      "fr_phos_ester: 0\n",
      "fr_piperdine: 0\n",
      "fr_piperzine: 0\n",
      "fr_priamide: 0\n",
      "fr_prisulfonamd: 0\n",
      "fr_pyridine: 0\n",
      "fr_quatN: 0\n",
      "fr_sulfide: 0\n",
      "fr_sulfonamd: 0\n",
      "fr_sulfone: 0\n",
      "fr_term_acetylene: 0\n",
      "fr_tetrazole: 0\n",
      "fr_thiazole: 0\n",
      "fr_thiocyan: 0\n",
      "fr_thiophene: 0\n",
      "fr_unbrch_alkane: 0\n",
      "fr_urea: 0\n"
     ]
    }
   ],
   "source": [
    "for i in range(len(Descriptors._descList)):\n",
    "    print(Descriptors._descList[i][0], end=\": \")\n",
    "    print(calc_all_descriptors[i])"
   ]
  },
  {
   "cell_type": "markdown",
   "metadata": {
    "id": "gljbmF6p3RX8"
   },
   "source": [
    "### Fingerprinting\n",
    "\n",
    "\n",
    "A chemical structure can be characterized by a set of numerical values known as molecular fingerprints. They may be 2D Fragment-based fingerprints presented by bit arrays of 0s and 1s wherein each bit position indicates the presence or absence of structural fragments.\n",
    "\n",
    "\n",
    "The RDKit has a variety of built-in functionality for generating molecular fingerprints and then using them to calculate molecular similarity. In this exercise, we will generate the fingerprints for parcetamol and aspirin that are two popular drugs used for pains.\n",
    "\n",
    "\n"
   ]
  },
  {
   "cell_type": "code",
   "execution_count": null,
   "metadata": {},
   "outputs": [],
   "source": []
  },
  {
   "cell_type": "markdown",
   "metadata": {},
   "source": [
    "\n",
    "With the help of rdkit.Chem.AllChem.GetMorganFingerprintAsBitVect, compute its fingerprint as a bit vector. "
   ]
  },
  {
   "cell_type": "code",
   "execution_count": 91,
   "metadata": {},
   "outputs": [],
   "source": [
    "from rdkit.Chem.AllChem import GetMorganFingerprintAsBitVect\n",
    "\n",
    "paracetamol_fingerprint = GetMorganFingerprintAsBitVect(paracetamol, 2)"
   ]
  },
  {
   "cell_type": "markdown",
   "metadata": {},
   "source": [
    "Display its type"
   ]
  },
  {
   "cell_type": "code",
   "execution_count": 92,
   "metadata": {
    "colab": {
     "base_uri": "https://localhost:8080/"
    },
    "executionInfo": {
     "elapsed": 241,
     "status": "ok",
     "timestamp": 1629702793698,
     "user": {
      "displayName": "ngoc mac",
      "photoUrl": "",
      "userId": "17981024361133171440"
     },
     "user_tz": -120
    },
    "id": "Tev1bWf7uEod",
    "outputId": "ec52a092-12c5-4193-c8dd-400221012bf1"
   },
   "outputs": [
    {
     "data": {
      "text/plain": [
       "rdkit.DataStructs.cDataStructs.ExplicitBitVect"
      ]
     },
     "execution_count": 92,
     "metadata": {},
     "output_type": "execute_result"
    }
   ],
   "source": [
    "type(paracetamol_fingerprint)"
   ]
  },
  {
   "cell_type": "markdown",
   "metadata": {},
   "source": [
    "With the DataStructs module convert it to a numpy vector and display it shape and display it"
   ]
  },
  {
   "cell_type": "code",
   "execution_count": 93,
   "metadata": {
    "colab": {
     "base_uri": "https://localhost:8080/"
    },
    "executionInfo": {
     "elapsed": 207,
     "status": "ok",
     "timestamp": 1629702913270,
     "user": {
      "displayName": "ngoc mac",
      "photoUrl": "",
      "userId": "17981024361133171440"
     },
     "user_tz": -120
    },
    "id": "9Cb8JDUe0pOw",
    "outputId": "b02963f7-1d8a-4a5e-8990-2caa165857ec"
   },
   "outputs": [],
   "source": [
    "import numpy as np"
   ]
  },
  {
   "cell_type": "code",
   "execution_count": 94,
   "metadata": {},
   "outputs": [
    {
     "name": "stdout",
     "output_type": "stream",
     "text": [
      "(2048,)\n",
      "[0 0 0 ... 0 0 0]\n"
     ]
    }
   ],
   "source": [
    "paracetamol_np_vector = np.array(paracetamol_fingerprint)\n",
    "print(paracetamol_np_vector.shape)\n",
    "print(paracetamol_np_vector)"
   ]
  },
  {
   "cell_type": "markdown",
   "metadata": {},
   "source": [
    "Create a function smiles_to_np_morganfingerprinting which takes a smile representation and gives back the numpy version of the morgan finger_printing"
   ]
  },
  {
   "cell_type": "code",
   "execution_count": 95,
   "metadata": {},
   "outputs": [],
   "source": [
    "def smiles_to_np_morganfingerprinting(smile):\n",
    "    m = Chem.MolFromSmiles(smile)\n",
    "    fp = GetMorganFingerprintAsBitVect(m, 2)\n",
    "    np_ver = np.array(fp)\n",
    "    return np_ver"
   ]
  },
  {
   "cell_type": "markdown",
   "metadata": {},
   "source": [
    "Compute the morgan finger printing of the aspirin (CC(=O)OC1=CC=CC=C1C(O)=O) and paracetamol (CC(=O)NC1=CC=C(O)C=C1)"
   ]
  },
  {
   "cell_type": "code",
   "execution_count": 96,
   "metadata": {
    "executionInfo": {
     "elapsed": 215,
     "status": "ok",
     "timestamp": 1629702957867,
     "user": {
      "displayName": "ngoc mac",
      "photoUrl": "",
      "userId": "17981024361133171440"
     },
     "user_tz": -120
    },
    "id": "8PALjOz5232Z"
   },
   "outputs": [
    {
     "data": {
      "text/plain": [
       "array([0, 0, 0, ..., 0, 0, 0])"
      ]
     },
     "execution_count": 96,
     "metadata": {},
     "output_type": "execute_result"
    }
   ],
   "source": [
    "aspirin = \"CC(=O)OC1=CC=CC=C1C(O)=O\"\n",
    "aspirin_morgan_fp = smiles_to_np_morganfingerprinting(aspirin)\n",
    "aspirin_morgan_fp"
   ]
  },
  {
   "cell_type": "code",
   "execution_count": 97,
   "metadata": {},
   "outputs": [],
   "source": [
    "# Paracetamol has been done just above"
   ]
  },
  {
   "cell_type": "markdown",
   "metadata": {},
   "source": [
    "Compute the DiceSimilarity of the two molecules"
   ]
  },
  {
   "cell_type": "code",
   "execution_count": null,
   "metadata": {},
   "outputs": [],
   "source": []
  },
  {
   "cell_type": "markdown",
   "metadata": {
    "id": "SvHtYagP31vo"
   },
   "source": [
    "### SMART\n",
    "\n",
    "In many commonly used applications, we need to determine whether atoms in a molecule match a particular pattern. It can be used for filtering structures or identifying substructures that are associated with toxicological problem.\n",
    "\n",
    "SMART us an extension of the SMILES language that can be used to create queries.\n"
   ]
  },
  {
   "cell_type": "markdown",
   "metadata": {},
   "source": [
    "\n",
    "Find molecules in the following list named \"smiles_list\" that contain the \"CCC\" pattern (you can use the GetSubstructMatch class).\n"
   ]
  },
  {
   "cell_type": "code",
   "execution_count": null,
   "metadata": {},
   "outputs": [],
   "source": []
  },
  {
   "cell_type": "markdown",
   "metadata": {},
   "source": [
    "\n",
    "\n",
    "Highlight the pattern \"CCC\" in these molecules.\n",
    "\n"
   ]
  },
  {
   "cell_type": "code",
   "execution_count": null,
   "metadata": {},
   "outputs": [],
   "source": []
  },
  {
   "cell_type": "markdown",
   "metadata": {},
   "source": [
    "\n",
    "Do the same thing ex 1 but for the pattern \"C(=O)N\"."
   ]
  },
  {
   "cell_type": "code",
   "execution_count": null,
   "metadata": {
    "colab": {
     "base_uri": "https://localhost:8080/",
     "height": 187
    },
    "executionInfo": {
     "elapsed": 245,
     "status": "ok",
     "timestamp": 1629703088061,
     "user": {
      "displayName": "ngoc mac",
      "photoUrl": "",
      "userId": "17981024361133171440"
     },
     "user_tz": -120
    },
    "id": "mXqKwAO03xQi",
    "outputId": "df36267e-2f50-43f4-bd32-f66e9c67a79d"
   },
   "outputs": [],
   "source": []
  }
 ],
 "metadata": {
  "colab": {
   "authorship_tag": "ABX9TyNoKXr8DpL6SE63xUQunF4I",
   "collapsed_sections": [],
   "name": "Rdkit_exercise.ipynb",
   "provenance": []
  },
  "kernelspec": {
   "display_name": "Python 3 (ipykernel)",
   "language": "python",
   "name": "python3"
  },
  "language_info": {
   "codemirror_mode": {
    "name": "ipython",
    "version": 3
   },
   "file_extension": ".py",
   "mimetype": "text/x-python",
   "name": "python",
   "nbconvert_exporter": "python",
   "pygments_lexer": "ipython3",
   "version": "3.9.6"
  }
 },
 "nbformat": 4,
 "nbformat_minor": 1
}
